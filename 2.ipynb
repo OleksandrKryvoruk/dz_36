{
 "cells": [
  {
   "cell_type": "markdown",
   "id": "cca68b8d",
   "metadata": {},
   "source": [
    "## K-Fold Cross-Validation"
   ]
  },
  {
   "cell_type": "markdown",
   "id": "eba11e0f",
   "metadata": {},
   "source": [
    "### Завдання 2"
   ]
  },
  {
   "cell_type": "markdown",
   "id": "f371f056",
   "metadata": {},
   "source": [
    "Проведіть крос-валідацію для моделі, побудованої на основі датафрейму **petrol_consumption.csv** з попереднього завдання. Обгрунтуйте обраний метод крос-валідації"
   ]
  },
  {
   "cell_type": "markdown",
   "id": "c5b29811",
   "metadata": {},
   "source": [
    "### Розв'язок"
   ]
  },
  {
   "cell_type": "code",
   "execution_count": 18,
   "id": "b1a970d1",
   "metadata": {},
   "outputs": [],
   "source": [
    "import pandas as pd\n",
    "import numpy as np\n",
    "from sklearn.model_selection import KFold, StratifiedKFold, cross_val_score\n",
    "from sklearn.metrics import mean_absolute_error, mean_squared_error\n",
    "from sklearn import linear_model, tree, ensemble"
   ]
  },
  {
   "cell_type": "markdown",
   "id": "9af81010",
   "metadata": {},
   "source": [
    "## Load Dataset"
   ]
  },
  {
   "cell_type": "code",
   "execution_count": 19,
   "id": "dc7702d8",
   "metadata": {
    "scrolled": false
   },
   "outputs": [
    {
     "data": {
      "text/html": [
       "<div>\n",
       "<style scoped>\n",
       "    .dataframe tbody tr th:only-of-type {\n",
       "        vertical-align: middle;\n",
       "    }\n",
       "\n",
       "    .dataframe tbody tr th {\n",
       "        vertical-align: top;\n",
       "    }\n",
       "\n",
       "    .dataframe thead th {\n",
       "        text-align: right;\n",
       "    }\n",
       "</style>\n",
       "<table border=\"1\" class=\"dataframe\">\n",
       "  <thead>\n",
       "    <tr style=\"text-align: right;\">\n",
       "      <th></th>\n",
       "      <th>Petrol_tax</th>\n",
       "      <th>Average_income</th>\n",
       "      <th>Paved_Highways</th>\n",
       "      <th>Population_Driver_licence(%)</th>\n",
       "      <th>Petrol_Consumption</th>\n",
       "    </tr>\n",
       "  </thead>\n",
       "  <tbody>\n",
       "    <tr>\n",
       "      <th>0</th>\n",
       "      <td>9.0</td>\n",
       "      <td>3571</td>\n",
       "      <td>1976</td>\n",
       "      <td>0.525</td>\n",
       "      <td>541</td>\n",
       "    </tr>\n",
       "    <tr>\n",
       "      <th>1</th>\n",
       "      <td>9.0</td>\n",
       "      <td>4092</td>\n",
       "      <td>1250</td>\n",
       "      <td>0.572</td>\n",
       "      <td>524</td>\n",
       "    </tr>\n",
       "    <tr>\n",
       "      <th>2</th>\n",
       "      <td>9.0</td>\n",
       "      <td>3865</td>\n",
       "      <td>1586</td>\n",
       "      <td>0.580</td>\n",
       "      <td>561</td>\n",
       "    </tr>\n",
       "    <tr>\n",
       "      <th>3</th>\n",
       "      <td>7.5</td>\n",
       "      <td>4870</td>\n",
       "      <td>2351</td>\n",
       "      <td>0.529</td>\n",
       "      <td>414</td>\n",
       "    </tr>\n",
       "    <tr>\n",
       "      <th>4</th>\n",
       "      <td>8.0</td>\n",
       "      <td>4399</td>\n",
       "      <td>431</td>\n",
       "      <td>0.544</td>\n",
       "      <td>410</td>\n",
       "    </tr>\n",
       "  </tbody>\n",
       "</table>\n",
       "</div>"
      ],
      "text/plain": [
       "   Petrol_tax  Average_income  Paved_Highways  Population_Driver_licence(%)  \\\n",
       "0         9.0            3571            1976                         0.525   \n",
       "1         9.0            4092            1250                         0.572   \n",
       "2         9.0            3865            1586                         0.580   \n",
       "3         7.5            4870            2351                         0.529   \n",
       "4         8.0            4399             431                         0.544   \n",
       "\n",
       "   Petrol_Consumption  \n",
       "0                 541  \n",
       "1                 524  \n",
       "2                 561  \n",
       "3                 414  \n",
       "4                 410  "
      ]
     },
     "execution_count": 19,
     "metadata": {},
     "output_type": "execute_result"
    }
   ],
   "source": [
    "train_data = pd.read_csv('petrol_consumption.csv')\n",
    "train_data.head()"
   ]
  },
  {
   "cell_type": "code",
   "execution_count": 20,
   "id": "69bfc750",
   "metadata": {},
   "outputs": [
    {
     "name": "stdout",
     "output_type": "stream",
     "text": [
      "Shape of input data: (48, 4) and shape of target variable: (48,)\n"
     ]
    },
    {
     "data": {
      "text/html": [
       "<div>\n",
       "<style scoped>\n",
       "    .dataframe tbody tr th:only-of-type {\n",
       "        vertical-align: middle;\n",
       "    }\n",
       "\n",
       "    .dataframe tbody tr th {\n",
       "        vertical-align: top;\n",
       "    }\n",
       "\n",
       "    .dataframe thead th {\n",
       "        text-align: right;\n",
       "    }\n",
       "</style>\n",
       "<table border=\"1\" class=\"dataframe\">\n",
       "  <thead>\n",
       "    <tr style=\"text-align: right;\">\n",
       "      <th></th>\n",
       "      <th>Petrol_tax</th>\n",
       "      <th>Average_income</th>\n",
       "      <th>Paved_Highways</th>\n",
       "      <th>Population_Driver_licence(%)</th>\n",
       "      <th>Petrol_Consumption</th>\n",
       "    </tr>\n",
       "  </thead>\n",
       "  <tbody>\n",
       "    <tr>\n",
       "      <th>0</th>\n",
       "      <td>9.0</td>\n",
       "      <td>3571</td>\n",
       "      <td>1976</td>\n",
       "      <td>0.525</td>\n",
       "      <td>541</td>\n",
       "    </tr>\n",
       "    <tr>\n",
       "      <th>1</th>\n",
       "      <td>9.0</td>\n",
       "      <td>4092</td>\n",
       "      <td>1250</td>\n",
       "      <td>0.572</td>\n",
       "      <td>524</td>\n",
       "    </tr>\n",
       "    <tr>\n",
       "      <th>2</th>\n",
       "      <td>9.0</td>\n",
       "      <td>3865</td>\n",
       "      <td>1586</td>\n",
       "      <td>0.580</td>\n",
       "      <td>561</td>\n",
       "    </tr>\n",
       "    <tr>\n",
       "      <th>3</th>\n",
       "      <td>7.5</td>\n",
       "      <td>4870</td>\n",
       "      <td>2351</td>\n",
       "      <td>0.529</td>\n",
       "      <td>414</td>\n",
       "    </tr>\n",
       "    <tr>\n",
       "      <th>4</th>\n",
       "      <td>8.0</td>\n",
       "      <td>4399</td>\n",
       "      <td>431</td>\n",
       "      <td>0.544</td>\n",
       "      <td>410</td>\n",
       "    </tr>\n",
       "  </tbody>\n",
       "</table>\n",
       "</div>"
      ],
      "text/plain": [
       "   Petrol_tax  Average_income  Paved_Highways  Population_Driver_licence(%)  \\\n",
       "0         9.0            3571            1976                         0.525   \n",
       "1         9.0            4092            1250                         0.572   \n",
       "2         9.0            3865            1586                         0.580   \n",
       "3         7.5            4870            2351                         0.529   \n",
       "4         8.0            4399             431                         0.544   \n",
       "\n",
       "   Petrol_Consumption  \n",
       "0                 541  \n",
       "1                 524  \n",
       "2                 561  \n",
       "3                 414  \n",
       "4                 410  "
      ]
     },
     "execution_count": 20,
     "metadata": {},
     "output_type": "execute_result"
    }
   ],
   "source": [
    "\n",
    "train_data.dropna(axis=0, subset=['Petrol_Consumption'], inplace=True)\n",
    "\n",
    "y = train_data.Petrol_Consumption          \n",
    "X = train_data.drop(['Petrol_Consumption'], axis=1)\n",
    "\n",
    "print(\"Shape of input data: {} and shape of target variable: {}\".format(X.shape, y.shape))\n",
    "\n",
    "pd.concat([X, y], axis=1).head()"
   ]
  },
  {
   "cell_type": "markdown",
   "id": "0c9e3311",
   "metadata": {},
   "source": [
    "## Understanding the Data"
   ]
  },
  {
   "cell_type": "markdown",
   "id": "7c4fbc5d",
   "metadata": {},
   "source": [
    "Остаточний набір даних містить 4 функції і 48  прикладів. Ми маємо передбачити, які витрати бензину, виходячи з даних про податок на бензин, середній дохід, автомагістралі та наявність водійських ліцензій у населення."
   ]
  },
  {
   "cell_type": "markdown",
   "id": "8b69e2ee",
   "metadata": {},
   "source": [
    "## Model Score Using KFold"
   ]
  },
  {
   "cell_type": "code",
   "execution_count": 21,
   "id": "5d32ac47",
   "metadata": {},
   "outputs": [
    {
     "name": "stdout",
     "output_type": "stream",
     "text": [
      "Fold:1, Train set: 38, Test set:10\n",
      "Fold:2, Train set: 38, Test set:10\n",
      "Fold:3, Train set: 38, Test set:10\n",
      "Fold:4, Train set: 39, Test set:9\n",
      "Fold:5, Train set: 39, Test set:9\n"
     ]
    }
   ],
   "source": [
    "kf =KFold(n_splits=5, shuffle=True, random_state=42)\n",
    "\n",
    "cnt = 1\n",
    "for train_index, test_index in kf.split(X, y):\n",
    "    print(f'Fold:{cnt}, Train set: {len(train_index)}, Test set:{len(test_index)}')\n",
    "    cnt+=1\n"
   ]
  },
  {
   "cell_type": "code",
   "execution_count": 22,
   "id": "b3c7f32a",
   "metadata": {
    "scrolled": true
   },
   "outputs": [
    {
     "name": "stdout",
     "output_type": "stream",
     "text": [
      "Fold 1 : [ 0  1  2  3  5  6  7  8  9 10 11 13 14 15 16 17 18 20 21 22 23 28 29 30\n",
      " 31 32 33 34 35 36 38 39 41 42 44 45 46 47] \n",
      "Test: [ 4 12 19 24 25 26 27 37 40 43]\n",
      "Fold 2 : [ 0  1  2  4  5  7 10 11 12 14 16 18 19 20 21 22 23 24 25 26 27 28 29 30\n",
      " 31 32 34 35 36 37 38 40 41 42 43 44 46 47] \n",
      "Test: [ 3  6  8  9 13 15 17 33 39 45]\n",
      "Fold 3 : [ 1  2  3  4  6  7  8  9 10 12 13 14 15 17 18 19 20 21 22 23 24 25 26 27\n",
      " 28 33 35 36 37 38 39 40 41 42 43 44 45 47] \n",
      "Test: [ 0  5 11 16 29 30 31 32 34 46]\n",
      "Fold 4 : [ 0  3  4  5  6  7  8  9 11 12 13 14 15 16 17 18 19 20 22 24 25 26 27 28\n",
      " 29 30 31 32 33 34 37 38 39 40 42 43 45 46 47] \n",
      "Test: [ 1  2 10 21 23 35 36 41 44]\n",
      "Fold 5 : [ 0  1  2  3  4  5  6  8  9 10 11 12 13 15 16 17 19 21 23 24 25 26 27 29\n",
      " 30 31 32 33 34 35 36 37 39 40 41 43 44 45 46] \n",
      "Test: [ 7 14 18 20 22 28 38 42 47]\n"
     ]
    }
   ],
   "source": [
    "count = 1\n",
    "for train_index, test_index in kf.split(X):\n",
    "    print(f'Fold {count} :', train_index, '\\nTest:', test_index)\n",
    "    count += 1"
   ]
  },
  {
   "cell_type": "code",
   "execution_count": 23,
   "id": "f3f50504",
   "metadata": {},
   "outputs": [],
   "source": [
    "def rmse(score):\n",
    "    rmse = np.sqrt(-score)\n",
    "    print(f'rmse= {rmse}')"
   ]
  },
  {
   "cell_type": "markdown",
   "id": "f1fd9808",
   "metadata": {},
   "source": [
    "### Using Linear Regression"
   ]
  },
  {
   "cell_type": "code",
   "execution_count": 24,
   "id": "20c36b3c",
   "metadata": {},
   "outputs": [
    {
     "name": "stdout",
     "output_type": "stream",
     "text": [
      "Scores for each fold: [ -4083.25587175 -10468.85637678  -2453.65941292  -3853.05818469\n",
      "  -3173.21607154]\n",
      "rmse= 69.32827117082202\n"
     ]
    }
   ],
   "source": [
    "score = cross_val_score(linear_model.LinearRegression(), X, y, cv = kf, scoring=\"neg_mean_squared_error\")\n",
    "print(f'Scores for each fold: {score}')\n",
    "rmse(score.mean())"
   ]
  },
  {
   "cell_type": "markdown",
   "id": "f44615e5",
   "metadata": {},
   "source": [
    "### Using Decision Tree Regressor"
   ]
  },
  {
   "cell_type": "code",
   "execution_count": 25,
   "id": "94fbefa4",
   "metadata": {},
   "outputs": [
    {
     "name": "stdout",
     "output_type": "stream",
     "text": [
      "Scores for each fold: [-17347.7        -17412.3         -6389.6         -7350.66666667\n",
      " -13087.22222222]\n",
      "rmse= 110.98422310300585\n"
     ]
    }
   ],
   "source": [
    "score = cross_val_score(tree.DecisionTreeRegressor(random_state= 42), X, y, cv = kf, scoring=\"neg_mean_squared_error\")\n",
    "print(f'Scores for each fold: {score}')\n",
    "rmse(score.mean())"
   ]
  },
  {
   "cell_type": "markdown",
   "id": "789249ed",
   "metadata": {},
   "source": [
    "### Using Random Forest Regressor"
   ]
  },
  {
   "cell_type": "code",
   "execution_count": 26,
   "id": "ef51ca87",
   "metadata": {},
   "outputs": [
    {
     "name": "stdout",
     "output_type": "stream",
     "text": [
      "Scores for each fold are: [ -7539.12317    -12797.03298     -3600.52778     -2946.84586667\n",
      "  -6053.55496667]\n",
      "rmse= 81.16290379641839\n"
     ]
    }
   ],
   "source": [
    "score = cross_val_score(ensemble.RandomForestRegressor(random_state= 42), X, y, cv= kf, scoring=\"neg_mean_squared_error\")\n",
    "print(f'Scores for each fold are: {score}')\n",
    "rmse(score.mean())"
   ]
  },
  {
   "cell_type": "markdown",
   "id": "4ec04c57",
   "metadata": {},
   "source": [
    "## Model Tuning using KFold"
   ]
  },
  {
   "cell_type": "markdown",
   "id": "6c206506",
   "metadata": {},
   "source": [
    "### Decision Tree Regressor Tuning"
   ]
  },
  {
   "cell_type": "code",
   "execution_count": 27,
   "id": "df07f444",
   "metadata": {},
   "outputs": [
    {
     "name": "stdout",
     "output_type": "stream",
     "text": [
      "For max depth: 1\n",
      "rmse= 96.0448885906034\n",
      "For max depth: 2\n",
      "rmse= 109.72146653302416\n",
      "For max depth: 3\n",
      "rmse= 107.34027059636371\n",
      "For max depth: 4\n",
      "rmse= 105.22825041902301\n",
      "For max depth: 5\n",
      "rmse= 105.33869350854975\n",
      "For max depth: 6\n",
      "rmse= 110.45609896869759\n",
      "For max depth: 7\n",
      "rmse= 122.2700794790061\n",
      "For max depth: 8\n",
      "rmse= 123.53311521837193\n",
      "For max depth: 9\n",
      "rmse= 110.98573481908984\n",
      "For max depth: 10\n",
      "rmse= 110.97151786732384\n"
     ]
    }
   ],
   "source": [
    "max_depth = [1,2,3,4,5,6,7,8,9,10]\n",
    "\n",
    "for val in max_depth:\n",
    "    score = cross_val_score(tree.DecisionTreeRegressor(max_depth= val, random_state= 42), X, y, cv = kf, scoring=\"neg_mean_squared_error\")\n",
    "    print(f'For max depth: {val}')\n",
    "    rmse(score.mean())"
   ]
  },
  {
   "cell_type": "markdown",
   "id": "6d57c8e0",
   "metadata": {},
   "source": [
    "### Random Forest Regressor Tuning"
   ]
  },
  {
   "cell_type": "code",
   "execution_count": 28,
   "id": "e5f00618",
   "metadata": {},
   "outputs": [
    {
     "name": "stdout",
     "output_type": "stream",
     "text": [
      "For estimators: 50\n",
      "rmse= 82.88561863730577\n",
      "For estimators: 100\n",
      "rmse= 81.16290379641839\n",
      "For estimators: 150\n",
      "rmse= 81.10830165180077\n",
      "For estimators: 200\n",
      "rmse= 80.14954668756536\n",
      "For estimators: 250\n",
      "rmse= 79.78893146897006\n",
      "For estimators: 300\n",
      "rmse= 80.24292820162017\n",
      "For estimators: 350\n",
      "rmse= 80.61728010539575\n"
     ]
    }
   ],
   "source": [
    "estimators = [50, 100, 150, 200, 250, 300, 350]\n",
    "\n",
    "for count in estimators:\n",
    "    score = cross_val_score(ensemble.RandomForestRegressor(n_estimators= count, random_state= 42), X, y, cv= kf, scoring=\"neg_mean_squared_error\")\n",
    "    print(f'For estimators: {count}')\n",
    "    rmse(score.mean())"
   ]
  },
  {
   "cell_type": "markdown",
   "id": "6fb332b1",
   "metadata": {},
   "source": [
    "## Висновок"
   ]
  },
  {
   "cell_type": "markdown",
   "id": "3b6d9926",
   "metadata": {},
   "source": [
    "**Вважаю, що найкращий результат і в цьому завданні показує модель лінійної регресії. Хоча моделі випадкових лісів і древовидної регресії вдалося трохи покращити за допомогою тренування.**\n",
    "\n",
    "**Для тренування і оцінювання моделей обрано К-кратну валідацію, як найпоширеніший метод тренування моделей, та дає досить точний результат.**\n",
    "\n",
    "**Стратифіковану крос-валідацію застосувати в даному випадку не можна, оскільки предиктор не розподілений на певні класи.\n",
    "Я це перевірила експериментальним шляхом, підставивши значення у код з лекції. всі результата дорівнювали нулю.**"
   ]
  }
 ],
 "metadata": {
  "kernelspec": {
   "display_name": "Python 3 (ipykernel)",
   "language": "python",
   "name": "python3"
  },
  "language_info": {
   "codemirror_mode": {
    "name": "ipython",
    "version": 3
   },
   "file_extension": ".py",
   "mimetype": "text/x-python",
   "name": "python",
   "nbconvert_exporter": "python",
   "pygments_lexer": "ipython3",
   "version": "3.9.7"
  }
 },
 "nbformat": 4,
 "nbformat_minor": 5
}
